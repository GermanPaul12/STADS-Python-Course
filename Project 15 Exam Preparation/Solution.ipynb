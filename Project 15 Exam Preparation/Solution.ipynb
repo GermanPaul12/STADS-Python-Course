{
 "cells": [
  {
   "cell_type": "markdown",
   "metadata": {},
   "source": [
    "# Python-Kurs Klausurvorbereitung\n",
    "\n",
    "Bearbeitungszeit -> 60min"
   ]
  },
  {
   "cell_type": "markdown",
   "metadata": {},
   "source": [
    "## Aufgabe 1\n",
    "\n",
    "- Erstellen Sie zwei Variabelen `a` und `b`, wobei `a` einen Wert von `5` haben soll und `b` einen Wert von `3`\n",
    "- Die Varibale `c` soll die Addition von `a und b` als Wert haben.\n",
    "\n",
    "(2 pkt.)"
   ]
  },
  {
   "cell_type": "code",
   "execution_count": 1,
   "metadata": {},
   "outputs": [],
   "source": [
    "a = 5\n",
    "b = 3\n",
    "c = a + b"
   ]
  },
  {
   "cell_type": "markdown",
   "metadata": {},
   "source": [
    "## Aufgabe 2 \n",
    "\n",
    "- Bestimmen Sie die Datentypen der folgenden Variabeln\n",
    "- Befüllen Sie die Liste `resultat_2` mit den entsprechenden Datentypen: \n",
    "  - float soll mit \"f\" gekennzeichnet werden\n",
    "  - int mit \"i\"\n",
    "  - boolean mit \"b\"\n",
    "  - string mit \"s\"\n",
    "- `index = 0` bzw, das erste Element in der Liste entspricht der Variable `a` entspricht\n",
    "- das zweite Element der Variable `b` und das letzte Element der Variable `g`\n",
    "\n",
    "a = \"Easy\" \\\n",
    "b = 2.0 + 2 \\\n",
    "c = True \\\n",
    "d = 5 // 2 \\\n",
    "e = 10 \\\n",
    "f = 30 % 2 \\\n",
    "g = [1.0,\"2\",True,4][1] \n",
    "\n",
    "(7 pkt.)"
   ]
  },
  {
   "cell_type": "code",
   "execution_count": 2,
   "metadata": {},
   "outputs": [],
   "source": [
    "resultat_2 = [\"s\", \"f\", \"b\", \"i\", \"i\", \"i\", \"s\"]"
   ]
  },
  {
   "cell_type": "markdown",
   "metadata": {},
   "source": [
    "## Aufgabe 3 \n",
    "\n",
    "- Geben Sie in einer Liste `resultat_3` die Zeilen wieder die syntaktische Fehler beinhalten.\n",
    "- Bsp. wenn Zeile 1, 3 und 4 falsch sind dann `resultat_3 = [1, 3, 4]`\n",
    "\n",
    "1.      a = \"2\" + str(5)\n",
    "2.      3.0 + \"Python\".count(o)\n",
    "3.      True + False + True\n",
    "4.      2 + \"2\"\n",
    "5.      pass\n",
    "6.      1 = 1\n",
    "7.      2 == \"Hallo\"\n",
    "\n",
    "(3 pkt.)"
   ]
  },
  {
   "cell_type": "code",
   "execution_count": 3,
   "metadata": {},
   "outputs": [],
   "source": [
    "resultat_3 = [4, 6]"
   ]
  },
  {
   "cell_type": "markdown",
   "metadata": {},
   "source": [
    "## Aufgabe 4\n",
    "\n",
    "- Schreiben Sie eine for-loop, welche eine Liste `resultat_4` im Interval 0 bis 10 erzeugt. (0 und 10 inklusive)\n",
    "- Beispiel für ein Interval von 10 bis 12: [10, 11, 12]\n",
    "\n",
    "(3 pkt.)"
   ]
  },
  {
   "cell_type": "code",
   "execution_count": 4,
   "metadata": {},
   "outputs": [],
   "source": [
    "# Möglichkeit 1\n",
    "resultat_4 = [i for i in range(0,11)]\n",
    "#Möglichkeit 2\n",
    "resultat_4 = []\n",
    "for i in range(0,11):\n",
    "    resultat_4.append(i)"
   ]
  },
  {
   "cell_type": "markdown",
   "metadata": {},
   "source": [
    "## Aufgabe 5\n",
    "\n",
    "#### Aufgabenstellung\n",
    "- schreiben Sie eine Funktion namens `check_palindrom`, welche überprüfen soll, ob ein String ein Palindrom ist.\n",
    "- Die Funktion soll einen Parameter `text` entgegeben nehmen\n",
    "- Als Output soll die Funktion `True` oder `False` zurückgeben, je nachdem ob es Palindrom ist. \n",
    "\n",
    "#### Beschreibung Palindrom\n",
    "- Ein Palindrom ist ein Text, welcher umgekehrt denselben Text anzeigt, wie richtig rum \n",
    "- Beispiele für Palindrome: Anna, Lagerregal, Ein Esel lese nie, Rentner\n",
    "- Dabei sind die Groß- und Kleinschreibung, Satzzeichen sowie Leerzeichen zu entfernen.\n",
    "- Das heißt der Input kann jeglicher String sein, aber das Resultat sollte nur den zusammengesetzten String aus kleinbuchstaben beachten.\n",
    "- Bsp: Input: \"Ein Esel lese nie\" , Output: True, weil \"einesellesenie\" == \"einesellesenie\"\n",
    "\n",
    "(10 Pkt. )"
   ]
  },
  {
   "cell_type": "code",
   "execution_count": 5,
   "metadata": {},
   "outputs": [],
   "source": [
    "# Möglichkeit 1\n",
    "check_palindrom = lambda text: ''.join([i.lower() for i in text if i.isalpha()]) == ''.join([i.lower() for i in text if i.isalpha()][::-1])\n",
    "\n",
    "#Möglichkeit 2\n",
    "# Definiere Funktion und Parameter\n",
    "def check_palindrom(text):\n",
    "    # Initialisiere Variable die nur die Buchstaben aus Text beinhaltet\n",
    "    clean_text = \"\"\n",
    "    # Für jedes Symbol in Text\n",
    "    for i in text:\n",
    "        # Wenn das Symbol ein Buchstabe ist\n",
    "        if i.isalpha():\n",
    "            # Füge den Buchstaben in Kleinschreibung dem clean_text hinzu\n",
    "            clean_text += i.lower()\n",
    "    # Gebe zurück ob clean_text gleich clean_text rückwärts entspricht\n",
    "    # Ausgabe von vergleichen mit Operatoren sind booleans -> True oder False        \n",
    "    return clean_text == clean_text[::-1]    "
   ]
  },
  {
   "cell_type": "markdown",
   "metadata": {},
   "source": [
    "## Aufgabe 6\n",
    "\n",
    "- schreiben Sie eine Funktion `is_even`, welche einen Parameter `num` entgegeben nimmt und `True` zurückgibt, wenn `num` durch 2 teilbar ist und `False` wenn nicht. \n",
    "\n",
    "(5 pkt.)"
   ]
  },
  {
   "cell_type": "code",
   "execution_count": 6,
   "metadata": {},
   "outputs": [],
   "source": [
    "# Möglichkeit 1\n",
    "is_even = lambda num: num % 2 == 0\n",
    "# Möglichkeit 2\n",
    "def is_even(num):\n",
    "    return num % 2 == 0 "
   ]
  },
  {
   "cell_type": "markdown",
   "metadata": {},
   "source": [
    "## Aufgabe 7\n",
    "\n",
    "- Definieren Sie eine Klasse `Student`\n",
    "- Jeder Student soll mit den Attributen, `name`, `studiengang` und `hobby` initialisiert werden.\n",
    "- Definieren Sie die Funktion `__str__`, welche widergibt, f\"{name} studiert {studiengang} und liebt {hobby}\"\n",
    "- Der String muss eins zu eins dem String dem obendrüber entsprechen \n",
    "(10 pkt.)"
   ]
  },
  {
   "cell_type": "code",
   "execution_count": 7,
   "metadata": {},
   "outputs": [
    {
     "name": "stdout",
     "output_type": "stream",
     "text": [
      "German studiert WI Data Science und liebt Padel, Schach und Coding\n"
     ]
    }
   ],
   "source": [
    "class Student:\n",
    "    def __init__(self, name, studiengang, hobby):\n",
    "        self.name = name\n",
    "        self.studiengang = studiengang\n",
    "        self.hobby = hobby\n",
    "    \n",
    "    def __str__(self):\n",
    "        return f\"{self.name} studiert {self.studiengang} und liebt {self.hobby}\"\n",
    "\n",
    "print(Student(\"German\", \"WI Data Science\", \"Padel, Schach und Coding\"))        "
   ]
  },
  {
   "cell_type": "markdown",
   "metadata": {},
   "source": [
    "## Aufgabe 8\n",
    "\n",
    "- Sie haben einen Datensatz mit Pandas als Variable `df` eingelesen. `df` besteht aus Studentendaten mit folgenden Spalten: `name`, `alter` und `note`.\n",
    "1. Schreiben Sie den Code der die Spalte `name` in einer Variiable `namen` speichert\n",
    "2. Schreiben Sie den Code welcher den Durchschnitt der Noten der Studierenden in einer Variable namens `dnote` speichert. \n",
    "3. Schreiben Sie den Code der die Zeile mit dem kleinsten Alter in einer Variable namens `genius` speichert.\n",
    "4. Schreiben Sie den Code der eine neue Spalte namens `mail` hinzufügt. Jede Mail besteht aus `name` + `@mail.de`.\n",
    "\n",
    "(10 pkt.)"
   ]
  },
  {
   "cell_type": "code",
   "execution_count": 8,
   "metadata": {},
   "outputs": [],
   "source": [
    "# DON'T TOUCH THIS CODE\n",
    "import pandas as pd\n",
    "df = pd.DataFrame({\"name\": [\"Gustaf\", \"Sheldon_Cooper\", \"Lena\", \"Mary\", \"Simon\"], \"alter\": [23, 8, 19, 21, 22], \"note\": [2.0, 1.0, 1.5, 1.9, 1.3]})\n",
    "# YOUR CODE SHOULD START HERE\n",
    "namen = df.name\n",
    "dnote = df.note.mean()\n",
    "genius = df.iloc[df.alter.idxmin()]\n",
    "df[\"mail\"] = df[\"name\"] + \"@mail.de\""
   ]
  },
  {
   "cell_type": "markdown",
   "metadata": {},
   "source": [
    "## Aufgabe 9 \n",
    "\n",
    "Ihr Neffe Julian hat einen Code geschrieben der noch paar Fehler beinhaltet. Korrigieren Sie die syntaktischen und semantischen Fehler.\n",
    "\n",
    "- Julian möchte einen Code schreiben, welcher es Ihm ermöglicht einen Random Number Guesser zu programmieren.\n",
    "- Es soll eine Zahl zwischen 0 bis 100 erraten werden (0 und 100 inklusive)\n",
    "- Wenn die Zufallszahl gleich der geschätzten Zahl ist soll `richtig` geprintet werden und die Schleife soll abgebrochen werden\n",
    "- Wenn die Zufallszahl kleiner als die geschätzte Zahl ist, soll `kleiner` geprintet werden\n",
    "- Ansonsten soll `größer` geprintet werden\n",
    "\n",
    "- Sie müssen dafür Zeilen entfernen, sowie verändern. Sie müssen keinen neuen Code schreiben, im Sinne von komplett neu hinzufügen. Nur den falschen Code verändern.\n",
    "\n",
    "(10 pkt.)"
   ]
  },
  {
   "cell_type": "code",
   "execution_count": 9,
   "metadata": {},
   "outputs": [],
   "source": [
    "#import random \n",
    "#zufallszahl = random.randint(10, 11)\n",
    "#def random_number_guesser(guess):\n",
    "    #break\n",
    "    #if zufallszahl = guess:\n",
    "        #output = richtig\n",
    "    #elif zufallszahl > guess:\n",
    "        #output = \"kleiner\"\n",
    "    #else:\n",
    "        #output = \"größer\"\n",
    "    #return output    \n",
    "#while False:\n",
    "    #guess = input(\"Deine geschätzte Zahl bitte hier eingeben: \")\n",
    "    #if random_number_guesser(guess) == \"richtig\":\n",
    "        #break"
   ]
  },
  {
   "cell_type": "code",
   "execution_count": 10,
   "metadata": {},
   "outputs": [
    {
     "name": "stdout",
     "output_type": "stream",
     "text": [
      "größer\n",
      "größer\n",
      "kleiner\n",
      "größer\n",
      "größer\n",
      "größer\n",
      "größer\n",
      "größer\n",
      "richtig\n"
     ]
    }
   ],
   "source": [
    "# Der Code ohne syntaktischen und semantischen Fehlern  \n",
    "import random \n",
    "zufallszahl = random.randint(0, 100)\n",
    "def random_number_guesser(guess):\n",
    "    if zufallszahl == guess:\n",
    "        output = \"richtig\"\n",
    "    elif zufallszahl < guess:\n",
    "        output = \"kleiner\"\n",
    "    else:\n",
    "        output = \"größer\"\n",
    "    return output    \n",
    "while True:\n",
    "    guess = int(input(\"Deine geschätzte Zahl bitte hier eingeben: \"))\n",
    "    print(random_number_guesser(guess))\n",
    "    if random_number_guesser(guess) == \"richtig\":\n",
    "        break"
   ]
  },
  {
   "cell_type": "code",
   "execution_count": 11,
   "metadata": {},
   "outputs": [
    {
     "name": "stdout",
     "output_type": "stream",
     "text": [
      "Aufgabe 1: 2.0/2.0 Punkten\n",
      "Aufgabe 2: 7.0/7.0 Punkten\n",
      "Aufgabe 3: 3.0/3.0 Punkten\n",
      "Aufgabe 4: 3.0/3.0 Punkten\n",
      "Aufgabe 5: 10.0/10.0 Punkten\n",
      "Aufgabe 6: 5.0/5.0 Punkten\n",
      "Aufgabe 7: 10.0/10.0 Punkten\n",
      "Aufgabe 8: 10.0/10.0 Punkten\n",
      "Aufgabe 9: 10.0/10.0 Punkten\n",
      "Bestanden mit 60.0/60 Punkten\n"
     ]
    }
   ],
   "source": [
    "# Dieser Code testet deinen Code und gibt dir deine approximierte Punkteanzahl aus.\n",
    "from solution import tester\n",
    "print(tester([[a,b,c], resultat_2, resultat_3, resultat_4, check_palindrom, is_even, Student, [namen, dnote, genius, df[\"mail\"]], random_number_guesser]))"
   ]
  }
 ],
 "metadata": {
  "kernelspec": {
   "display_name": "Python 3",
   "language": "python",
   "name": "python3"
  },
  "language_info": {
   "codemirror_mode": {
    "name": "ipython",
    "version": 3
   },
   "file_extension": ".py",
   "mimetype": "text/x-python",
   "name": "python",
   "nbconvert_exporter": "python",
   "pygments_lexer": "ipython3",
   "version": "3.11.5"
  }
 },
 "nbformat": 4,
 "nbformat_minor": 2
}
