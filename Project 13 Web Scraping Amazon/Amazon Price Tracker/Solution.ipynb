{
 "cells": [
  {
   "cell_type": "code",
   "execution_count": 1,
   "metadata": {},
   "outputs": [],
   "source": [
    "import requests \n",
    "from bs4 import BeautifulSoup\n",
    "import lxml\n",
    "\n",
    "#If price of jacket is lower than 55€ then send me a mail\n",
    "url = \"https://www.amazon.com/Wilson-Traditional-Soccer-Ball-Size/dp/B000L2DSLK/ref=sr_1_6?crid=1JTWEM8PBYRCC&keywords=soccer%2Bball&qid=1695806812&sprefix=soccer%2Bball%2Caps%2C321&sr=8-6&th=1\"\n",
    "response = requests.get(url, headers={\n",
    "    \"Accept-Language\":\"de-DE,de;q=0.9,en-US;q=0.8,en;q=0.7\",\n",
    "    \"User-Agent\":\"Mozilla/5.0 (Macintosh; Intel Mac OS X 10_15_7) AppleWebKit/537.36 (KHTML, like Gecko) Chrome/99.0.4844.51 Safari/537.36\",\n",
    "    \"Accept-Encoding\":\"gzip, deflate\",\n",
    "    \"Upgrade-Insecure-Requests\":\"1\",\n",
    "    \"Accept\":\"text/html,application/xhtml+xml,application/xml;q=0.9,image/avif,image/webp,image/apng,*/*;q=0.8,application/signed-exchange;v=b3;q=0.9\"})\n",
    "soup = BeautifulSoup(response.text, \"lxml\")"
   ]
  },
  {
   "cell_type": "code",
   "execution_count": 2,
   "metadata": {},
   "outputs": [
    {
     "name": "stdout",
     "output_type": "stream",
     "text": [
      "8,00$8,00$\n"
     ]
    }
   ],
   "source": [
    "price_raw = soup.find(\"span\", \"a-price a-text-price a-size-medium apexPriceToPay\").text\n",
    "print(price_raw)"
   ]
  },
  {
   "cell_type": "code",
   "execution_count": 10,
   "metadata": {},
   "outputs": [
    {
     "name": "stdout",
     "output_type": "stream",
     "text": [
      "Buy\n"
     ]
    }
   ],
   "source": [
    "price_list = price_raw.split(\"$\")\n",
    "price = float(price_list[0].replace(\",\", \".\"))\n",
    "if price < 9:\n",
    "    print(\"Buy\")"
   ]
  },
  {
   "cell_type": "code",
   "execution_count": null,
   "metadata": {},
   "outputs": [],
   "source": []
  }
 ],
 "metadata": {
  "kernelspec": {
   "display_name": "Python 3",
   "language": "python",
   "name": "python3"
  },
  "language_info": {
   "codemirror_mode": {
    "name": "ipython",
    "version": 3
   },
   "file_extension": ".py",
   "mimetype": "text/x-python",
   "name": "python",
   "nbconvert_exporter": "python",
   "pygments_lexer": "ipython3",
   "version": "3.11.5"
  },
  "orig_nbformat": 4
 },
 "nbformat": 4,
 "nbformat_minor": 2
}
