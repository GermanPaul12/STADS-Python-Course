{
 "cells": [
  {
   "cell_type": "markdown",
   "metadata": {},
   "source": [
    "# Movie Scraper for the 100 greatest movies of all time 18.05.2020"
   ]
  },
  {
   "cell_type": "code",
   "execution_count": 20,
   "metadata": {},
   "outputs": [],
   "source": [
    "import requests\n",
    "from bs4 import BeautifulSoup\n",
    "import lxml\n",
    "\n",
    "url = \"https://web.archive.org/web/20200518073855/https://www.empireonline.com/movies/features/best-movies-2/\"\n",
    "response = requests.get(url)\n",
    "movie_data = response.text\n",
    "soup = BeautifulSoup(movie_data, \"lxml\")"
   ]
  },
  {
   "cell_type": "code",
   "execution_count": 21,
   "metadata": {},
   "outputs": [
    {
     "name": "stdout",
     "output_type": "stream",
     "text": [
      "['1) The Godfather', '2) The Empire Strikes Back', '3) The Dark Knight', '4) The Shawshank Redemption', '5) Pulp Fiction', '6) Goodfellas', '7) Raiders Of The Lost Ark', '8) Jaws', '9) Star Wars', '10) The Lord Of The Rings: The Fellowship Of The Ring', '11) Back To The Future', '12: The Godfather Part II', '13) Blade Runner', '14) Alien', '15) Aliens', '16) The Lord Of The Rings: The Return Of The King', '17) Fight Club', '18) Inception', '19) Jurassic Park', '20) Die Hard', '21) 2001: A Space Odyssey', '22) Apocalypse Now', '23) The Lord Of The Rings: The Two Towers', '24) The Matrix', '25) Terminator 2: Judgment Day', '26) Heat', '27) The Good, The Bad And The Ugly', '28) Casablanca', '29) The Big Lebowski', '30) Seven', '31) Taxi Driver', '32) The Usual Suspects', \"33) Schindler's List\", '34) Guardians Of The Galaxy', '35) The Shining', '36) The Departed', '37) The Thing', '38) Mad Max: Fury Road', '39) Saving Private Ryan', '40) 12 Angry Men', '41) Eternal Sunshine Of The Spotless Mind', '42) There Will Be Blood', \"43) One Flew Over The Cuckoo's Nest\", '44) Gladiator', '45) Drive', '46) Citizen Kane', '47) Interstellar', '48) The Silence Of The Lambs', '49) Trainspotting', '50) Lawrence Of Arabia', \"51) It's A Wonderful Life\", '52) Once Upon A Time In The West', '53) Psycho', '54) Vertigo', \"55) Pan's Labyrinth\", '56) Reservoir Dogs', '57) Whiplash', '58) Inglourious Basterds', '59) E.T. â\\x80\\x93 The Extra Terrestrial', '60) American Beauty', '61) Forrest Gump', '62) La La Land', '63) Donnie Darko', '64) L.A. Confidential', '65) Avengers Assemble', '66) Return Of The Jedi', '67) Memento', '68) Ghostbusters', \"69) Singin' In The Rain\", '70) The Lion King', '71) Hot Fuzz', '72) Rear Window', '73) Seven Samurai', '74) Mulholland Dr.', '75) Fargo', '76) A Clockwork Orange', '77) Toy Story', '78) Oldboy', '79) Captain America: Civil War', '15) Spirited Away', '81) The Social Network', '82) Some Like It Hot', '83) True Romance', '84) Rocky', '85) LÃ©on', '86) Indiana Jones And The Last Crusade', '87) Predator', '88) The Exorcist', '89) Shaun Of The Dead', '90) No Country For Old Men', '91) The Prestige', '92) The Terminator', '93) The Princess Bride', '94) Lost In Translation', '95) Arrival', '96) Good Will Hunting', '97) Titanic', '98) Amelie', '99) Raging Bull', '100) Stand By Me']\n",
      "Done.\n"
     ]
    }
   ],
   "source": [
    "titles_html = soup.select(\"h3\") \n",
    "titles_list = [title.text for title in titles_html]\n",
    "titles_list.reverse()\n",
    "print(titles_list)\n",
    "\n",
    "path = r\"C:\\Users\\paulg\\Documents\\Coding\\STADS\\STADS-Python-Course\\Project 13 Web Scraping Amazon\\100 Greatest Movies of all time\\movies.txt\"\n",
    "with open(path, \"w+\", encoding=\"utf-8\") as f:\n",
    "    for i in range(len(titles_list)):\n",
    "        f.write(f\"{titles_list[i]}\\n\")\n",
    "print(\"Done.\")        "
   ]
  },
  {
   "cell_type": "markdown",
   "metadata": {},
   "source": [
    "# Movie Scraper for the 100 greatest movies of all time 23.08.2023"
   ]
  },
  {
   "cell_type": "code",
   "execution_count": 36,
   "metadata": {},
   "outputs": [],
   "source": [
    "import re\n",
    " \n",
    "def del_all_occ(string):\n",
    "    return re.sub(\"\\n\", ' ', string)"
   ]
  },
  {
   "cell_type": "code",
   "execution_count": 37,
   "metadata": {},
   "outputs": [],
   "source": [
    "user_agents = [\n",
    "    'Mozilla/5.0 (Windows NT 10.0; Win64; x64) AppleWebKit/537.36 (KHTML, like Gecko) Chrome/109.0.0.0 Safari/537.36'\n",
    "    'Mozilla/5.0 (Macintosh; Intel Mac OS X 10_15_7) AppleWebKit/537.36 (KHTML, like Gecko) Chrome/109.0.0.0 Safari/537.36'\n",
    "    'Mozilla/5.0 (Windows NT 10.0; Win64; x64) AppleWebKit/537.36 (KHTML, like Gecko) Chrome/108.0.0.0 Safari/537.36'\n",
    "    'Mozilla/5.0 (Macintosh; Intel Mac OS X 10_15_7) AppleWebKit/537.36 (KHTML, like Gecko) Chrome/108.0.0.0 Safari/537.36'\n",
    "    'Mozilla/5.0 (X11; Linux x86_64) AppleWebKit/537.36 (KHTML, like Gecko) Chrome/108.0.0.0 Safari/537.36'\n",
    "    'Mozilla/5.0 (Macintosh; Intel Mac OS X 10_15_7) AppleWebKit/605.1.15 (KHTML, like Gecko) Version/16.1 Safari/605.1.15'\n",
    "    'Mozilla/5.0 (Macintosh; Intel Mac OS X 13_1) AppleWebKit/605.1.15 (KHTML, like Gecko) Version/16.1 Safari/605.1.15'\n",
    "]"
   ]
  },
  {
   "cell_type": "code",
   "execution_count": 40,
   "metadata": {},
   "outputs": [],
   "source": [
    "import requests\n",
    "from bs4 import BeautifulSoup\n",
    "import lxml\n",
    "import random\n",
    "\n",
    "\n",
    "all_movies = []\n",
    "for i in range(1,8):\n",
    "    url = f\"https://au.rollingstone.com/100-greatest-movies-of-all-time/page/{i}/\"\n",
    "    response = requests.get(url, headers={\"User-Agent\":random.choice(user_agents)})\n",
    "    movie_data = response.text\n",
    "    soup = BeautifulSoup(movie_data, \"lxml\")\n",
    "    titles_html = soup.select(\"header.c-list__header\") \n",
    "    titles_list = [del_all_occ(title.text) for title in titles_html]\n",
    "    all_movies += titles_list"
   ]
  },
  {
   "cell_type": "code",
   "execution_count": 39,
   "metadata": {},
   "outputs": [
    {
     "name": "stdout",
     "output_type": "stream",
     "text": [
      "[' 100 Kill Bill Volume 1 ', ' 99 Star Wars Episode III: Revenge of the Sith ', ' 98 Moulin Rouge!  ', ' 97 Spider-Man: Far From Home ', ' 96 The Fifth Element ', ' 95 Vertigo ', \" 94 Monty Python's Life of Brian \", ' 93 There Will Be Blood ', ' 92 Whiplash ', ' 91 The Goonies ', ' 90 Blade Runner 2049 ', ' 89 La La Land ', ' 88 The Avengers ', ' 87 No Country for Old Men ', ' 86 Dead Poets Society ', ' 85 Donny Darko ', ' 84 Joker ', ' 83 3 Godfathers ', ' 82 The Terminator ', ' 81 The Castle ', ' 80 The Usual Suspects ', ' 79 Rocketman ', ' 78 The Lion King ', ' 77 The Greatest Showman ', ' 76 Toy Story ', ' 75 Spirited Away ', ' 74 Psycho ', ' 73 The Rocky Horror Picture Show ', ' 72 Mad Max: Fury Road ', ' 71 Frozen ', ' 70 Mad Max ', ' 69 Eternal Sunshine of the Spotless Mind ', ' 68 Indiana Jones & the Last Crusade ', ' 67 Ghost ', ' 66 Good Will Hunting ', ' 65 The Lord of the Rings: Two Towers ', ' 64 Stand By Me ', ' 63 Hunt for the Wilderpeople ', ' 62 The Breakfast Club ', ' 61 The Notebook ', ' 60 Rocky ', \" 59 Ferris Bueller's Day Off \", ' 58 Taxi Driver ', ' 57 Ben Hur ', ' 56 Avengers: Infinity War ', ' 55 To Kill a Mockingbird ', ' 54 Lawrence of Arabia ', ' 53 The Shining ', ' 52 Braveheart ', ' 51 The Blues Brothers ', ' 50 Silence of the Lambs ', \" 49 One Flew Over the Cuckoo's Nest \", ' 48 1917 ', ' 47 Ghostbusters ', ' 46 The Wizard of Oz ', ' 45 Aliens ', ' 44 Pretty Woman ', ' 43 Interstellar ', ' 42 Top Gun ', ' 41 Die Hard ', ' 40 Gladiator ', \" 39 Schindler's List \", ' 38 The Godfather Part 2 ', ' 37 Citizen Kane ', ' 36 Apocalypse Now ', ' 35 The Princess Bride ', ' 34 Alien ', ' 33 Fight Club ', ' 32 Saving Private Ryan ', ' 31 Terminator 2: Judgement Day ', ' 30 Grease ', ' 29 2001: A Space Odyssey ', ' 28 The Matrix ', ' 27 The Green Mile ', ' 26 Jurassic Park ', ' 25 Lord of the Rings: The Fellowship of the Ring ', ' 24 Parasite ', ' 23 E.T. the Extra-Terrestrial ', ' 22 Inception ', ' 21 Avatar ', ' 20 The Lord of the Rings: The Return of the King ', ' 19 Blade Runner ', ' 18 Goodfellas ', ' 17 Casablanca ', ' 16 Dirty Dancing ', ' 15 The Sound of Music ', ' 14 Raiders of the Lost Ark ', ' 13 Love Actually ', ' 12 Avengers: Endgame ', ' 11 The Dark Knight ', ' 10 Forrest Gump ', ' 9 Back to the Future ', ' 8 Gone with the Wind ', ' 7 Star Wars Episode V: The Empire Strikes Back ', ' 6 Jaws ', ' 5 Pulp Fiction ', ' 4 The Godfather ', ' 3 Star Wars Episode IV: A New Hope ', ' 2 Titanic ', ' 1 The Shawshank Redemption ']\n"
     ]
    }
   ],
   "source": [
    "PATH = r\"C:\\Users\\paulg\\Documents\\Coding\\STADS\\STADS-Python-Course\\Project 13 Web Scraping Amazon\\100 Greatest Movies of all time\\100_greatest_movies.txt\"\n",
    "with open(PATH, \"w+\") as f:\n",
    "    pass\n",
    "\n",
    "with open(PATH, \"a\", encoding=\"utf-8\") as f:\n",
    "    for i in all_movies[::-1]:\n",
    "        f.write(f\"{i.strip()}\\n\")    \n",
    "print(all_movies)"
   ]
  },
  {
   "cell_type": "code",
   "execution_count": null,
   "metadata": {},
   "outputs": [],
   "source": []
  }
 ],
 "metadata": {
  "kernelspec": {
   "display_name": "Python 3",
   "language": "python",
   "name": "python3"
  },
  "language_info": {
   "codemirror_mode": {
    "name": "ipython",
    "version": 3
   },
   "file_extension": ".py",
   "mimetype": "text/x-python",
   "name": "python",
   "nbconvert_exporter": "python",
   "pygments_lexer": "ipython3",
   "version": "3.11.5"
  },
  "orig_nbformat": 4
 },
 "nbformat": 4,
 "nbformat_minor": 2
}
