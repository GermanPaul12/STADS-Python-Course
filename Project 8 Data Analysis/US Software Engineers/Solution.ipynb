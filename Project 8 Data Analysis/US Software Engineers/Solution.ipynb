{
 "cells": [
  {
   "cell_type": "markdown",
   "metadata": {},
   "source": [
    "# US Software Engineers Analysis with Pandas"
   ]
  },
  {
   "cell_type": "code",
   "execution_count": 17,
   "metadata": {},
   "outputs": [],
   "source": [
    "# we start by importing all necessary libraries\n",
    "import pandas as pd\n",
    "import numpy as np\n",
    "import matplotlib.pyplot as plt\n",
    "import re"
   ]
  },
  {
   "cell_type": "code",
   "execution_count": 18,
   "metadata": {},
   "outputs": [
    {
     "data": {
      "text/html": [
       "<div>\n",
       "<style scoped>\n",
       "    .dataframe tbody tr th:only-of-type {\n",
       "        vertical-align: middle;\n",
       "    }\n",
       "\n",
       "    .dataframe tbody tr th {\n",
       "        vertical-align: top;\n",
       "    }\n",
       "\n",
       "    .dataframe thead th {\n",
       "        text-align: right;\n",
       "    }\n",
       "</style>\n",
       "<table border=\"1\" class=\"dataframe\">\n",
       "  <thead>\n",
       "    <tr style=\"text-align: right;\">\n",
       "      <th></th>\n",
       "      <th>Unnamed: 0</th>\n",
       "      <th>title</th>\n",
       "      <th>company</th>\n",
       "      <th>location</th>\n",
       "      <th>salary</th>\n",
       "      <th>rating</th>\n",
       "      <th>types</th>\n",
       "    </tr>\n",
       "  </thead>\n",
       "  <tbody>\n",
       "    <tr>\n",
       "      <th>0</th>\n",
       "      <td>0</td>\n",
       "      <td>Android Developer</td>\n",
       "      <td>Shockoe</td>\n",
       "      <td>Richmond, VA</td>\n",
       "      <td>NaN</td>\n",
       "      <td>0.0</td>\n",
       "      <td>Full-time</td>\n",
       "    </tr>\n",
       "    <tr>\n",
       "      <th>1</th>\n",
       "      <td>1</td>\n",
       "      <td>Web Developer</td>\n",
       "      <td>Denios, Inc.</td>\n",
       "      <td>Louisville, KY</td>\n",
       "      <td>$45,000 - $55,000 a year</td>\n",
       "      <td>0.0</td>\n",
       "      <td>Full-time</td>\n",
       "    </tr>\n",
       "    <tr>\n",
       "      <th>2</th>\n",
       "      <td>2</td>\n",
       "      <td>Sr. Android Developer</td>\n",
       "      <td>The Cervantes Group</td>\n",
       "      <td>Remote</td>\n",
       "      <td>NaN</td>\n",
       "      <td>4.1</td>\n",
       "      <td>Full-time</td>\n",
       "    </tr>\n",
       "    <tr>\n",
       "      <th>3</th>\n",
       "      <td>3</td>\n",
       "      <td>Junior Software Engineer</td>\n",
       "      <td>Medical Knowledge Group</td>\n",
       "      <td>Remote</td>\n",
       "      <td>NaN</td>\n",
       "      <td>0.0</td>\n",
       "      <td>Full-time</td>\n",
       "    </tr>\n",
       "    <tr>\n",
       "      <th>4</th>\n",
       "      <td>4</td>\n",
       "      <td>Cloud Engineer (Software Engineer Advanced, Ex...</td>\n",
       "      <td>Federal Reserve Bank of New York</td>\n",
       "      <td>Kansas City, MO</td>\n",
       "      <td>NaN</td>\n",
       "      <td>4.1</td>\n",
       "      <td>Full-time</td>\n",
       "    </tr>\n",
       "  </tbody>\n",
       "</table>\n",
       "</div>"
      ],
      "text/plain": [
       "   Unnamed: 0                                              title  \\\n",
       "0           0                                  Android Developer   \n",
       "1           1                                      Web Developer   \n",
       "2           2                              Sr. Android Developer   \n",
       "3           3                           Junior Software Engineer   \n",
       "4           4  Cloud Engineer (Software Engineer Advanced, Ex...   \n",
       "\n",
       "                            company         location  \\\n",
       "0                           Shockoe     Richmond, VA   \n",
       "1                      Denios, Inc.   Louisville, KY   \n",
       "2               The Cervantes Group           Remote   \n",
       "3           Medical Knowledge Group           Remote   \n",
       "4  Federal Reserve Bank of New York  Kansas City, MO   \n",
       "\n",
       "                     salary  rating      types  \n",
       "0                       NaN     0.0  Full-time  \n",
       "1  $45,000 - $55,000 a year     0.0  Full-time  \n",
       "2                       NaN     4.1  Full-time  \n",
       "3                       NaN     0.0  Full-time  \n",
       "4                       NaN     4.1  Full-time  "
      ]
     },
     "execution_count": 18,
     "metadata": {},
     "output_type": "execute_result"
    }
   ],
   "source": [
    "# we read the csv and print the first 5 rows\n",
    "df = pd.read_csv('data.csv')\n",
    "df.head()"
   ]
  },
  {
   "cell_type": "code",
   "execution_count": 19,
   "metadata": {},
   "outputs": [
    {
     "name": "stdout",
     "output_type": "stream",
     "text": [
      "<class 'pandas.core.frame.DataFrame'>\n",
      "RangeIndex: 58433 entries, 0 to 58432\n",
      "Data columns (total 7 columns):\n",
      " #   Column      Non-Null Count  Dtype  \n",
      "---  ------      --------------  -----  \n",
      " 0   Unnamed: 0  58433 non-null  int64  \n",
      " 1   title       58433 non-null  object \n",
      " 2   company     58430 non-null  object \n",
      " 3   location    58433 non-null  object \n",
      " 4   salary      18103 non-null  object \n",
      " 5   rating      58433 non-null  float64\n",
      " 6   types       42577 non-null  object \n",
      "dtypes: float64(1), int64(1), object(5)\n",
      "memory usage: 3.1+ MB\n"
     ]
    }
   ],
   "source": [
    "# Get information about columns\n",
    "df.info()"
   ]
  },
  {
   "cell_type": "code",
   "execution_count": 20,
   "metadata": {},
   "outputs": [
    {
     "data": {
      "text/html": [
       "<div>\n",
       "<style scoped>\n",
       "    .dataframe tbody tr th:only-of-type {\n",
       "        vertical-align: middle;\n",
       "    }\n",
       "\n",
       "    .dataframe tbody tr th {\n",
       "        vertical-align: top;\n",
       "    }\n",
       "\n",
       "    .dataframe thead th {\n",
       "        text-align: right;\n",
       "    }\n",
       "</style>\n",
       "<table border=\"1\" class=\"dataframe\">\n",
       "  <thead>\n",
       "    <tr style=\"text-align: right;\">\n",
       "      <th></th>\n",
       "      <th>Unnamed: 0</th>\n",
       "      <th>rating</th>\n",
       "    </tr>\n",
       "  </thead>\n",
       "  <tbody>\n",
       "    <tr>\n",
       "      <th>count</th>\n",
       "      <td>58433.000000</td>\n",
       "      <td>58433.000000</td>\n",
       "    </tr>\n",
       "    <tr>\n",
       "      <th>mean</th>\n",
       "      <td>29216.000000</td>\n",
       "      <td>2.565040</td>\n",
       "    </tr>\n",
       "    <tr>\n",
       "      <th>std</th>\n",
       "      <td>16868.298477</td>\n",
       "      <td>1.832927</td>\n",
       "    </tr>\n",
       "    <tr>\n",
       "      <th>min</th>\n",
       "      <td>0.000000</td>\n",
       "      <td>0.000000</td>\n",
       "    </tr>\n",
       "    <tr>\n",
       "      <th>25%</th>\n",
       "      <td>14608.000000</td>\n",
       "      <td>0.000000</td>\n",
       "    </tr>\n",
       "    <tr>\n",
       "      <th>50%</th>\n",
       "      <td>29216.000000</td>\n",
       "      <td>3.500000</td>\n",
       "    </tr>\n",
       "    <tr>\n",
       "      <th>75%</th>\n",
       "      <td>43824.000000</td>\n",
       "      <td>4.000000</td>\n",
       "    </tr>\n",
       "    <tr>\n",
       "      <th>max</th>\n",
       "      <td>58432.000000</td>\n",
       "      <td>5.000000</td>\n",
       "    </tr>\n",
       "  </tbody>\n",
       "</table>\n",
       "</div>"
      ],
      "text/plain": [
       "         Unnamed: 0        rating\n",
       "count  58433.000000  58433.000000\n",
       "mean   29216.000000      2.565040\n",
       "std    16868.298477      1.832927\n",
       "min        0.000000      0.000000\n",
       "25%    14608.000000      0.000000\n",
       "50%    29216.000000      3.500000\n",
       "75%    43824.000000      4.000000\n",
       "max    58432.000000      5.000000"
      ]
     },
     "execution_count": 20,
     "metadata": {},
     "output_type": "execute_result"
    }
   ],
   "source": [
    "# Get statistical data about the dataset\n",
    "df.describe()"
   ]
  },
  {
   "cell_type": "code",
   "execution_count": 21,
   "metadata": {},
   "outputs": [
    {
     "name": "stdout",
     "output_type": "stream",
     "text": [
      "Unnamed: 0 Unnamed: 0\n",
      "0        1\n",
      "38947    1\n",
      "38949    1\n",
      "38950    1\n",
      "38951    1\n",
      "        ..\n",
      "19481    1\n",
      "19482    1\n",
      "19483    1\n",
      "19484    1\n",
      "58432    1\n",
      "Name: count, Length: 58433, dtype: int64\n",
      "title title\n",
      "Senior Software Engineer                           2957\n",
      "Software Engineer                                  2833\n",
      "Sr. Software Engineer                               637\n",
      "DevOps Engineer                                     595\n",
      "Software Developer                                  538\n",
      "                                                   ... \n",
      "ETL Software Engineer                                 1\n",
      "DevOps Software Engineer II                           1\n",
      "Associate Director, Software Engineering - Cart       1\n",
      "DevOps Engineer ( manufacturing, production )         1\n",
      "Senior Engineer II-Software                           1\n",
      "Name: count, Length: 17633, dtype: int64\n",
      "company company\n",
      "Indeed                            1166\n",
      "Capital One                       1063\n",
      "Liberty Mutual Insurance           808\n",
      "VMware                             629\n",
      "VMware Engineering                 491\n",
      "                                  ... \n",
      "Clockshark                           1\n",
      "Virtual Benefits Administrator       1\n",
      "Trust Consulting Services Inc.       1\n",
      "GoCanvas                             1\n",
      "SIDEARM Sports                       1\n",
      "Name: count, Length: 10998, dtype: int64\n",
      "location location\n",
      "Remote               6730\n",
      "New York, NY         2529\n",
      "San Francisco, CA    1996\n",
      "Austin, TX           1971\n",
      "Boston, MA           1300\n",
      "                     ... \n",
      "Sykesville, MD          1\n",
      "Lewis Center, OH        1\n",
      "Rockwell, TX            1\n",
      "Stafford, VA            1\n",
      "Yuba City, CA           1\n",
      "Name: count, Length: 2240, dtype: int64\n",
      "salary salary\n",
      "$132,000 - $192,000 a year    505\n",
      "$109,000 - $159,000 a year    322\n",
      "$90,000 - $120,000 a year     282\n",
      "$1,000 - $6,000 a month       231\n",
      "From $100,000 a year          229\n",
      "                             ... \n",
      "From $104,000 a year            1\n",
      "$12 - $17 an hour               1\n",
      "$72,122 - $159,911 a year       1\n",
      "$108,211 - $175,578 a year      1\n",
      "$75,983 - $171,636 a year       1\n",
      "Name: count, Length: 2040, dtype: int64\n",
      "rating rating\n",
      "0.0    18865\n",
      "3.9     4963\n",
      "4.0     4127\n",
      "3.7     3300\n",
      "3.6     2973\n",
      "3.8     2885\n",
      "4.1     2745\n",
      "4.3     2531\n",
      "3.5     2266\n",
      "5.0     1893\n",
      "4.2     1840\n",
      "3.3     1521\n",
      "3.0     1487\n",
      "3.4     1356\n",
      "3.2     1034\n",
      "4.5      603\n",
      "3.1      584\n",
      "2.9      496\n",
      "2.8      392\n",
      "4.8      337\n",
      "4.4      316\n",
      "2.7      275\n",
      "4.7      259\n",
      "1.0      235\n",
      "2.0      211\n",
      "2.6      193\n",
      "4.6      192\n",
      "2.5      164\n",
      "2.4       97\n",
      "2.3       80\n",
      "1.5       65\n",
      "4.9       65\n",
      "2.2       43\n",
      "1.9       17\n",
      "2.1       10\n",
      "1.7        7\n",
      "1.8        4\n",
      "1.3        1\n",
      "1.4        1\n",
      "Name: count, dtype: int64\n",
      "types types\n",
      "Full-time                                                37930\n",
      "Full-time, Contract                                       2231\n",
      "Contract                                                   997\n",
      "Full-time, Part-time, Contract                             563\n",
      "Full-time, Part-time                                       213\n",
      "Part-time                                                  205\n",
      "Part-time, Contract                                        161\n",
      "Full-time, Temporary                                        79\n",
      "Temporary                                                   43\n",
      "Full-time, Internship                                       31\n",
      "Full-time, Temporary, Contract                              24\n",
      "Internship                                                  24\n",
      "Full-time, Part-time, Temporary, Contract                   14\n",
      "Part-time, Temporary                                        13\n",
      "Full-time, Part-time, Contract, Internship                   9\n",
      "Part-time, Internship                                        7\n",
      "Full-time, Part-time, Temporary, Contract, Internship        6\n",
      "Full-time, Part-time, Internship                             6\n",
      "Full-time, Part-time, Temporary                              5\n",
      "Full-time, Temporary, Contract, Internship                   5\n",
      "Part-time, Temporary, Contract, Internship                   3\n",
      "Part-time, Temporary, Contract                               3\n",
      "Part-time, Temporary, Internship                             2\n",
      "Full-time, Contract, Internship                              2\n",
      "Full-time, Part-time, Temporary, Internship                  1\n",
      "Name: count, dtype: int64\n"
     ]
    }
   ],
   "source": [
    "for i in df.columns:\n",
    "    print(i, df[i].value_counts())"
   ]
  },
  {
   "cell_type": "markdown",
   "metadata": {},
   "source": [
    "### Objective 1"
   ]
  },
  {
   "cell_type": "code",
   "execution_count": 22,
   "metadata": {},
   "outputs": [
    {
     "data": {
      "text/plain": [
       "title\n",
       "Senior Software Engineer    2957\n",
       "Software Engineer           2833\n",
       "Sr. Software Engineer        637\n",
       "Name: count, dtype: int64"
      ]
     },
     "execution_count": 22,
     "metadata": {},
     "output_type": "execute_result"
    }
   ],
   "source": [
    "df[\"title\"].value_counts()[:3]"
   ]
  },
  {
   "cell_type": "code",
   "execution_count": 23,
   "metadata": {},
   "outputs": [
    {
     "data": {
      "text/plain": [
       "(6730, 51703)"
      ]
     },
     "execution_count": 23,
     "metadata": {},
     "output_type": "execute_result"
    }
   ],
   "source": [
    "remote = df[df[\"location\"] == \"Remote\"]\n",
    "not_remote = df[df[\"location\"] != \"Remote\"]\n",
    "len(remote),len(not_remote)"
   ]
  },
  {
   "cell_type": "code",
   "execution_count": 24,
   "metadata": {},
   "outputs": [
    {
     "name": "stdout",
     "output_type": "stream",
     "text": [
      "Comparison Ratings remote and not-remote jobs\n",
      "Median Rating, Remote: 2.90, Not-Remote: 3.60\n",
      "Mean Rating, Remote: 2.02, Not-Remote: 2.64\n"
     ]
    }
   ],
   "source": [
    "print(\"Comparison Ratings remote and not-remote jobs\")\n",
    "print(f\"Median Rating, Remote: {remote.rating.median():.2f}, Not-Remote: {not_remote.rating.median():.2f}\")\n",
    "print(f\"Mean Rating, Remote: {remote.rating.mean():.2f}, Not-Remote: {not_remote.rating.mean():.2f}\")"
   ]
  },
  {
   "cell_type": "code",
   "execution_count": 25,
   "metadata": {},
   "outputs": [
    {
     "data": {
      "text/plain": [
       "<BarContainer object of 6 artists>"
      ]
     },
     "execution_count": 25,
     "metadata": {},
     "output_type": "execute_result"
    },
    {
     "data": {
      "image/png": "[encoded data removed]",
      "text/plain": [
       "<Figure size 1500x500 with 2 Axes>"
      ]
     },
     "metadata": {},
     "output_type": "display_data"
    }
   ],
   "source": [
    "remote_distribution = (remote['rating'].map(lambda x: round(x, 0)).value_counts(normalize=True)).sort_index()\n",
    "remote_distribution\n",
    "# Calculate percentage distribution for not_remote dataframe\n",
    "not_remote_distribution = (not_remote['rating'].map(lambda x: round(x, 0)).value_counts(normalize=True)).sort_index()\n",
    "\n",
    "f, (ax1, ax2) = plt.subplots(1, 2, figsize=(15, 5))\n",
    "ax1.bar(remote_distribution.index, remote_distribution.values)\n",
    "ax1.set_title('Remote')\n",
    "ax2.set_title(\"Not Remote\")\n",
    "ax1.set_xlabel('Rating')\n",
    "ax2.set_xlabel('Rating')\n",
    "ax1.set_ylabel('Percentage distribution')\n",
    "ax2.bar(not_remote_distribution.index, not_remote_distribution.values)"
   ]
  },
  {
   "cell_type": "markdown",
   "metadata": {},
   "source": [
    "It is difficult to evaluate the result, because there are much more NaN values in the remote dataset. We can see that more people voted in the not remote dataset and that most people who voted in both datasets gave the rating 4. The average and median rating is higher in the not remote dataset."
   ]
  },
  {
   "cell_type": "code",
   "execution_count": 26,
   "metadata": {},
   "outputs": [
    {
     "data": {
      "text/plain": [
       "salary\n",
       "$132,000 - $192,000 a year    171\n",
       "$110,000 - $150,000 a year     94\n",
       "$90,000 - $120,000 a year      93\n",
       "$109,000 - $159,000 a year     82\n",
       "$120,000 - $150,000 a year     82\n",
       "                             ... \n",
       "$39,519 - $82,505 a year        1\n",
       "$22,000 - $42,000 a year        1\n",
       "$45 - $65 an hour               1\n",
       "$188,000 - $272,000 a year      1\n",
       "$80 - $120 an hour              1\n",
       "Name: count, Length: 612, dtype: int64"
      ]
     },
     "execution_count": 26,
     "metadata": {},
     "output_type": "execute_result"
    }
   ],
   "source": [
    "remote.salary.value_counts()"
   ]
  },
  {
   "cell_type": "markdown",
   "metadata": {},
   "source": [
    "1. We have to make a few assumptions about the distribution. If a range is given then we calculate the mean. If it's a hourly salary then we multiply it by 40 * 52 since we assume the person works for 40 hours a week and a year consists of 52 weeks.  \n",
    "2. We have to code this requirements since we need integers or floats to calculate the average salary"
   ]
  },
  {
   "cell_type": "code",
   "execution_count": 27,
   "metadata": {},
   "outputs": [
    {
     "name": "stdout",
     "output_type": "stream",
     "text": [
      "<class 'pandas.core.series.Series'>\n",
      "Index: 6730 entries, 2 to 58423\n",
      "Series name: salary\n",
      "Non-Null Count  Dtype \n",
      "--------------  ----- \n",
      "4113 non-null   object\n",
      "dtypes: object(1)\n",
      "memory usage: 105.2+ KB\n"
     ]
    }
   ],
   "source": [
    "remote.salary.info()"
   ]
  },
  {
   "cell_type": "code",
   "execution_count": 28,
   "metadata": {},
   "outputs": [
    {
     "name": "stdout",
     "output_type": "stream",
     "text": [
      "<class 'pandas.core.series.Series'>\n",
      "Index: 51703 entries, 0 to 58432\n",
      "Series name: salary\n",
      "Non-Null Count  Dtype \n",
      "--------------  ----- \n",
      "13990 non-null  object\n",
      "dtypes: object(1)\n",
      "memory usage: 807.9+ KB\n"
     ]
    }
   ],
   "source": [
    "not_remote.salary.info()"
   ]
  },
  {
   "cell_type": "code",
   "execution_count": 29,
   "metadata": {},
   "outputs": [
    {
     "name": "stdout",
     "output_type": "stream",
     "text": [
      "Average Salaries, Remote: 136437.22, Not Remote: 137479.49\n"
     ]
    },
    {
     "name": "stderr",
     "output_type": "stream",
     "text": [
      "/var/folders/fh/jv92z4dx5j9g6t17kwcrwbr40000gn/T/ipykernel_48398/2327104975.py:18: SettingWithCopyWarning: \n",
      "A value is trying to be set on a copy of a slice from a DataFrame\n",
      "\n",
      "See the caveats in the documentation: https://pandas.pydata.org/pandas-docs/stable/user_guide/indexing.html#returning-a-view-versus-a-copy\n",
      "  remote.salary.dropna(inplace=True)\n",
      "/var/folders/fh/jv92z4dx5j9g6t17kwcrwbr40000gn/T/ipykernel_48398/2327104975.py:19: SettingWithCopyWarning: \n",
      "A value is trying to be set on a copy of a slice from a DataFrame\n",
      "\n",
      "See the caveats in the documentation: https://pandas.pydata.org/pandas-docs/stable/user_guide/indexing.html#returning-a-view-versus-a-copy\n",
      "  not_remote.salary.dropna(inplace=True)\n"
     ]
    }
   ],
   "source": [
    "data = pd.Series([\"$132,000 - $192,000 a year\", \"$110,000 - $150,000 a year\"])\n",
    "\n",
    "# Define a function to extract numbers from a string\n",
    "def extract_numbers(text):\n",
    "    text = str(text)\n",
    "    text = text.replace(\",\", \"\")\n",
    "    numbers = re.findall(r'\\d+', text)\n",
    "    return [int(number) if int(number) > 2000 else int(number) * 40 * 52 for number in numbers]  \n",
    "    # we assume that no one has a larger hourly salary than 2000 dollars\n",
    "\n",
    "def formatter(pd_series):\n",
    "    # Apply the function to each element in the Series to get the sublists of numbers\n",
    "    sublists = pd_series.apply(extract_numbers)\n",
    "\n",
    "    # Calculate the mean for each sublist\n",
    "    means = sublists.apply(lambda sublist: sum(sublist) / len(sublist) if len(sublist) > 0 else np.nan) \n",
    "    return means\n",
    "\n",
    "remote.salary.dropna(inplace=True)\n",
    "not_remote.salary.dropna(inplace=True)\n",
    "\n",
    "salaries_remote = formatter(remote.salary)\n",
    "salaries_not_remote = formatter(not_remote.salary)\n",
    "print(f\"Average Salaries, Remote: {salaries_remote.mean():.2f}, Not Remote: {salaries_not_remote.mean():.2f}\")    "
   ]
  },
  {
   "cell_type": "markdown",
   "metadata": {},
   "source": [
    "We can see that the salaries are pretty similiar and it doesn't make a big difference salary wise if you work in the office or remote"
   ]
  },
  {
   "cell_type": "code",
   "execution_count": 30,
   "metadata": {},
   "outputs": [],
   "source": [
    "# Create easier csv file\n",
    "#df[[\"title\", \"company\", \"location\", \"salary\", \"rating\", \"types\"]].to_csv(r\"data.csv\")"
   ]
  },
  {
   "cell_type": "code",
   "execution_count": null,
   "metadata": {},
   "outputs": [],
   "source": []
  }
 ],
 "metadata": {
  "kernelspec": {
   "display_name": "Python 3",
   "language": "python",
   "name": "python3"
  },
  "language_info": {
   "codemirror_mode": {
    "name": "ipython",
    "version": 3
   },
   "file_extension": ".py",
   "mimetype": "text/x-python",
   "name": "python",
   "nbconvert_exporter": "python",
   "pygments_lexer": "ipython3",
   "version": "3.11.4"
  },
  "orig_nbformat": 4
 },
 "nbformat": 4,
 "nbformat_minor": 2
}
