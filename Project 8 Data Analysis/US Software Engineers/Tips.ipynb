{
 "cells": [
  {
   "cell_type": "markdown",
   "metadata": {},
   "source": [
    "# US Software Engineers Data Analysis Project"
   ]
  },
  {
   "cell_type": "code",
   "execution_count": 2,
   "metadata": {},
   "outputs": [],
   "source": [
    "# import the necessary libraries \n",
    "# the minimum you need is pandas\n"
   ]
  },
  {
   "cell_type": "code",
   "execution_count": 4,
   "metadata": {},
   "outputs": [],
   "source": [
    "# read the csv file into a dataframe and show the first five rows\n"
   ]
  },
  {
   "cell_type": "code",
   "execution_count": 5,
   "metadata": {},
   "outputs": [],
   "source": [
    "# Examine the column names and their dtypes\n"
   ]
  },
  {
   "cell_type": "code",
   "execution_count": 6,
   "metadata": {},
   "outputs": [],
   "source": [
    "# In the title columns show the top 3 most frequent titles you may need to count the titles with a method\n"
   ]
  },
  {
   "cell_type": "code",
   "execution_count": 9,
   "metadata": {},
   "outputs": [],
   "source": [
    "# Split the dataset into rmeote and not remote jobs\n",
    "\n",
    "# Show the median and mean rating for remote and not remote jobs\n",
    "\n",
    "# Visualize your results with a bar chart\n"
   ]
  },
  {
   "cell_type": "code",
   "execution_count": 14,
   "metadata": {},
   "outputs": [],
   "source": [
    "##### Optional Homework #######\n",
    "# This one might be really hard for beginners #\n",
    "\n",
    "# You need to format the salary column you could do it like that\n",
    "# 1. Remove all commas from each row in the salary column\n",
    "\n",
    "# 2. Extrat only the numbers \n",
    "\n",
    "# 3. Calculate the mean of the numbers. \n",
    "    # if the number is below 2000 than we assume it's a hourly salary and multiply it by 40 and 52 otherwise we take the number\n",
    "\n",
    "# 4. Drop all NaN Values since we may assume that nobody works for free and it means that we don't have the information    \n",
    "\n",
    "# 5. Calculate the mean of both the remote and not remote jobs    \n"
   ]
  }
 ],
 "metadata": {
  "kernelspec": {
   "display_name": "Python 3",
   "language": "python",
   "name": "python3"
  },
  "language_info": {
   "codemirror_mode": {
    "name": "ipython",
    "version": 3
   },
   "file_extension": ".py",
   "mimetype": "text/x-python",
   "name": "python",
   "nbconvert_exporter": "python",
   "pygments_lexer": "ipython3",
   "version": "3.11.4"
  },
  "orig_nbformat": 4
 },
 "nbformat": 4,
 "nbformat_minor": 2
}
